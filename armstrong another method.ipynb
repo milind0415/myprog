{
 "cells": [
  {
   "cell_type": "code",
   "execution_count": 4,
   "id": "4e153802",
   "metadata": {
    "scrolled": true
   },
   "outputs": [
    {
     "name": "stdout",
     "output_type": "stream",
     "text": [
      "program to check the given number amstrong or not\n",
      "enter the number 153\n",
      "3\n",
      "1\n",
      "126\n",
      "153\n",
      "yes,it is armstrong number\n"
     ]
    }
   ],
   "source": [
    "print(\"program to check the given number amstrong or not\")\n",
    "cum=0\n",
    "ams=input(\"enter the number \")\n",
    "print(int(len(ams)))\n",
    "for i in range(int(len(ams))):\n",
    "        cum=cum+int(ams[i])**len(ams)\n",
    "        print(cum)\n",
    "if cum==int(ams):\n",
    "            print(\"yes,it is armstrong number\")\n",
    "else:\n",
    "            print(\"no, not a armstrong number\")"
   ]
  }
 ],
 "metadata": {
  "kernelspec": {
   "display_name": "Python 3 (ipykernel)",
   "language": "python",
   "name": "python3"
  },
  "language_info": {
   "codemirror_mode": {
    "name": "ipython",
    "version": 3
   },
   "file_extension": ".py",
   "mimetype": "text/x-python",
   "name": "python",
   "nbconvert_exporter": "python",
   "pygments_lexer": "ipython3",
   "version": "3.7.4"
  }
 },
 "nbformat": 4,
 "nbformat_minor": 5
}
